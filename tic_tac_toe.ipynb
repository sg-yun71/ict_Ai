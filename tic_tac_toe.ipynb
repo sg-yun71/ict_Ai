{
 "cells": [
  {
   "cell_type": "code",
   "id": "initial_id",
   "metadata": {
    "collapsed": true,
    "ExecuteTime": {
     "end_time": "2025-04-09T02:23:27.662509Z",
     "start_time": "2025-04-09T02:23:27.655771Z"
    }
   },
   "source": [
    "import random\n",
    "\n",
    "def drawBoard(board):\n",
    "    print('   |   |')\n",
    "    print(' ' + board[7] + ' | ' + board[8] + ' | ' + board[9])\n",
    "    print('   |   |')\n",
    "    print('-----------')\n",
    "    print('   |   |')\n",
    "    print(' ' + board[4] + ' | ' + board[5] + ' | ' + board[6])\n",
    "    print('   |   |')\n",
    "    print('-----------')\n",
    "    print('   |   |')\n",
    "    print(' ' + board[1] + ' | ' + board[2] + ' | ' + board[3])\n",
    "    print('   |   |')"
   ],
   "outputs": [],
   "execution_count": 1
  },
  {
   "metadata": {
    "ExecuteTime": {
     "end_time": "2025-04-09T02:23:29.532122Z",
     "start_time": "2025-04-09T02:23:29.529005Z"
    }
   },
   "cell_type": "code",
   "source": [
    "def inputPlayerLetter():\n",
    "    letter = ''\n",
    "    while not (letter == 'X' or letter == 'O'):\n",
    "        print('Do you want to be X or O?')\n",
    "        letter = input().upper()\n",
    "    if letter == 'X':\n",
    "        return ['X', 'O']\n",
    "    else:\n",
    "        return ['O', 'X']"
   ],
   "id": "85aef9f253022959",
   "outputs": [],
   "execution_count": 2
  },
  {
   "metadata": {
    "ExecuteTime": {
     "end_time": "2025-04-09T02:23:33.451346Z",
     "start_time": "2025-04-09T02:23:33.448410Z"
    }
   },
   "cell_type": "code",
   "source": [
    "def whoGoesFirst():\n",
    "    if random.randint(0, 1) == 0:\n",
    "        return 'computer'\n",
    "    else:\n",
    "        return 'player'"
   ],
   "id": "9eea57b72d63e35c",
   "outputs": [],
   "execution_count": 3
  },
  {
   "metadata": {
    "ExecuteTime": {
     "end_time": "2025-04-09T02:23:37.492031Z",
     "start_time": "2025-04-09T02:23:37.489230Z"
    }
   },
   "cell_type": "code",
   "source": [
    "def playAgain():\n",
    "    print('Do you want to play again? (yes or no)')\n",
    "    return input().lower().startswith('y')"
   ],
   "id": "c8f163fe882d4561",
   "outputs": [],
   "execution_count": 4
  },
  {
   "metadata": {
    "ExecuteTime": {
     "end_time": "2025-04-09T02:23:42.548163Z",
     "start_time": "2025-04-09T02:23:42.545473Z"
    }
   },
   "cell_type": "code",
   "source": [
    "def makeMove(board, letter, move):\n",
    "    board[move] = letter"
   ],
   "id": "f16da2ec94d5f2ea",
   "outputs": [],
   "execution_count": 5
  },
  {
   "metadata": {
    "ExecuteTime": {
     "end_time": "2025-04-09T02:23:47.120271Z",
     "start_time": "2025-04-09T02:23:47.112850Z"
    }
   },
   "cell_type": "code",
   "source": [
    "def isWinner(bo, le):\n",
    "    return ((bo[7] == le and bo[8] == le and bo[9] == le) or  # 상단 가로줄\n",
    "            (bo[4] == le and bo[5] == le and bo[6] == le) or  # 중앙 가로줄\n",
    "            (bo[1] == le and bo[2] == le and bo[3] == le) or  # 하단 가로줄\n",
    "            (bo[7] == le and bo[4] == le and bo[1] == le) or  # 왼쪽 세로줄\n",
    "            (bo[8] == le and bo[5] == le and bo[2] == le) or  # 중앙 세로줄\n",
    "            (bo[9] == le and bo[6] == le and bo[3] == le) or  # 오른쪽 세로줄\n",
    "            (bo[7] == le and bo[5] == le and bo[3] == le) or  # 대각선\n",
    "            (bo[9] == le and bo[5] == le and bo[1] == le))    # 대각선"
   ],
   "id": "6d9035d079f396a",
   "outputs": [],
   "execution_count": 6
  },
  {
   "metadata": {
    "ExecuteTime": {
     "end_time": "2025-04-09T02:23:51.728514Z",
     "start_time": "2025-04-09T02:23:51.722972Z"
    }
   },
   "cell_type": "code",
   "source": [
    "def getBoardCopy(board):\n",
    "    dupeBoard = []\n",
    "    for i in board:\n",
    "        dupeBoard.append(i)\n",
    "    return dupeBoard\n",
    "\n",
    "def isSpaceFree(board, move):\n",
    "    return board[move] == ' '"
   ],
   "id": "38dc17de7ab64d0",
   "outputs": [],
   "execution_count": 7
  },
  {
   "metadata": {
    "ExecuteTime": {
     "end_time": "2025-04-09T02:23:57.261881Z",
     "start_time": "2025-04-09T02:23:57.256736Z"
    }
   },
   "cell_type": "code",
   "source": [
    "def getPlayerMove(board):\n",
    "    move = ' '\n",
    "    while move not in '1 2 3 4 5 6 7 8 9'.split() or not isSpaceFree(board, int(move)):\n",
    "        print('What is your next move? (1-9)')\n",
    "        move = input()\n",
    "    return int(move)"
   ],
   "id": "24e6a44da4e98bb5",
   "outputs": [],
   "execution_count": 8
  },
  {
   "metadata": {
    "ExecuteTime": {
     "end_time": "2025-04-09T02:24:02.865774Z",
     "start_time": "2025-04-09T02:24:02.862898Z"
    }
   },
   "cell_type": "code",
   "source": [
    "def chooseRandomMoveFromList(board, movesList):\n",
    "    possibleMoves = []\n",
    "    for i in movesList:\n",
    "        if isSpaceFree(board, i):\n",
    "            possibleMoves.append(i)\n",
    "    if len(possibleMoves) != 0:\n",
    "        return random.choice(possibleMoves)\n",
    "    else:\n",
    "        return None"
   ],
   "id": "3f6e4f81f0edc9b0",
   "outputs": [],
   "execution_count": 9
  },
  {
   "metadata": {
    "ExecuteTime": {
     "end_time": "2025-04-09T02:24:13.134490Z",
     "start_time": "2025-04-09T02:24:13.130605Z"
    }
   },
   "cell_type": "code",
   "source": [
    "def getComputerMove(board, computerLetter):\n",
    "    if computerLetter == 'X':\n",
    "        playerLetter = 'O'\n",
    "    else:\n",
    "        playerLetter = 'X'\n",
    "\n",
    "    # 1단계: 컴퓨터가 바로 이길 수 있는 수 찾기\n",
    "    for i in range(1, 10):\n",
    "        copy = getBoardCopy(board)\n",
    "        if isSpaceFree(copy, i):\n",
    "            makeMove(copy, computerLetter, i)\n",
    "            if isWinner(copy, computerLetter):\n",
    "                return i\n",
    "\n",
    "    # 2단계: 플레이어가 이길 수 있는 수 막기\n",
    "    for i in range(1, 10):\n",
    "        copy = getBoardCopy(board)\n",
    "        if isSpaceFree(copy, i):\n",
    "            makeMove(copy, playerLetter, i)\n",
    "            if isWinner(copy, playerLetter):\n",
    "                return i\n",
    "\n",
    "    # 3단계: 모서리 위치 선택\n",
    "    move = chooseRandomMoveFromList(board, [1, 3, 7, 9])\n",
    "    if move != None:\n",
    "        return move\n",
    "\n",
    "    # 4단계: 중앙 위치 선택\n",
    "    if isSpaceFree(board, 5):\n",
    "        return 5\n",
    "\n",
    "    # 5단계: 측면 중 가능한 곳 선택\n",
    "    return chooseRandomMoveFromList(board, [2, 4, 6, 8])"
   ],
   "id": "1b0c000af02a2a91",
   "outputs": [],
   "execution_count": 10
  },
  {
   "metadata": {
    "ExecuteTime": {
     "end_time": "2025-04-09T02:24:18.417764Z",
     "start_time": "2025-04-09T02:24:18.415171Z"
    }
   },
   "cell_type": "code",
   "source": [
    "def isBoardFull(board):\n",
    "    for i in range(1, 10):\n",
    "        if isSpaceFree(board, i):\n",
    "            return False\n",
    "    return True"
   ],
   "id": "2bfb3afc3197f3dc",
   "outputs": [],
   "execution_count": 11
  },
  {
   "metadata": {
    "ExecuteTime": {
     "end_time": "2025-04-09T02:26:33.673035Z",
     "start_time": "2025-04-09T02:25:58.809428Z"
    }
   },
   "cell_type": "code",
   "source": [
    "print('Welcome to Tic Tac Toe!')\n",
    "\n",
    "while True:\n",
    "    # 보드 초기화\n",
    "    theBoard = [' '] * 10\n",
    "    playerLetter, computerLetter = inputPlayerLetter()\n",
    "    turn = whoGoesFirst()\n",
    "    print('The ' + turn + ' will go first.')\n",
    "    gameIsPlaying = True\n",
    "\n",
    "    while gameIsPlaying:\n",
    "        if turn == 'player':\n",
    "            # 플레이어의 턴\n",
    "            drawBoard(theBoard)\n",
    "            move = getPlayerMove(theBoard)\n",
    "            makeMove(theBoard, playerLetter, move)\n",
    "\n",
    "            if isWinner(theBoard, playerLetter):\n",
    "                drawBoard(theBoard)\n",
    "                print('Hooray! You have won the game!')\n",
    "                gameIsPlaying = False\n",
    "            else:\n",
    "                if isBoardFull(theBoard):\n",
    "                    drawBoard(theBoard)\n",
    "                    print('The game is a tie!')\n",
    "                    break\n",
    "                else:\n",
    "                    turn = 'computer'\n",
    "\n",
    "        else:\n",
    "            # 컴퓨터의 턴\n",
    "            move = getComputerMove(theBoard, computerLetter)\n",
    "            makeMove(theBoard, computerLetter, move)\n",
    "\n",
    "            if isWinner(theBoard, computerLetter):\n",
    "                drawBoard(theBoard)\n",
    "                print('The computer has beaten you! You lose.')\n",
    "                gameIsPlaying = False\n",
    "            else:\n",
    "                if isBoardFull(theBoard):\n",
    "                    drawBoard(theBoard)\n",
    "                    print('The game is a tie!')\n",
    "                    break\n",
    "                else:\n",
    "                    turn = 'player'\n",
    "\n",
    "    if not playAgain():\n",
    "        break"
   ],
   "id": "fb8d7694b3d1c35b",
   "outputs": [
    {
     "name": "stdout",
     "output_type": "stream",
     "text": [
      "Welcome to Tic Tac Toe!\n",
      "Do you want to be X or O?\n",
      "The player will go first.\n",
      "   |   |\n",
      "   |   |  \n",
      "   |   |\n",
      "-----------\n",
      "   |   |\n",
      "   |   |  \n",
      "   |   |\n",
      "-----------\n",
      "   |   |\n",
      "   |   |  \n",
      "   |   |\n",
      "What is your next move? (1-9)\n",
      "   |   |\n",
      "   |   |  \n",
      "   |   |\n",
      "-----------\n",
      "   |   |\n",
      "   |   |  \n",
      "   |   |\n",
      "-----------\n",
      "   |   |\n",
      " X |   | O\n",
      "   |   |\n",
      "What is your next move? (1-9)\n",
      "What is your next move? (1-9)\n",
      "   |   |\n",
      "   |   | O\n",
      "   |   |\n",
      "-----------\n",
      "   |   |\n",
      "   | X |  \n",
      "   |   |\n",
      "-----------\n",
      "   |   |\n",
      " X |   | O\n",
      "   |   |\n",
      "What is your next move? (1-9)\n",
      "What is your next move? (1-9)\n",
      "   |   |\n",
      "   |   | O\n",
      "   |   |\n",
      "-----------\n",
      "   |   |\n",
      "   | X | O\n",
      "   |   |\n",
      "-----------\n",
      "   |   |\n",
      " X | X | O\n",
      "   |   |\n",
      "The computer has beaten you! You lose.\n",
      "Do you want to play again? (yes or no)\n"
     ]
    }
   ],
   "execution_count": 14
  },
  {
   "metadata": {},
   "cell_type": "code",
   "outputs": [],
   "execution_count": null,
   "source": "",
   "id": "dc2c601192d4abc2"
  }
 ],
 "metadata": {
  "kernelspec": {
   "display_name": "Python 3",
   "language": "python",
   "name": "python3"
  },
  "language_info": {
   "codemirror_mode": {
    "name": "ipython",
    "version": 2
   },
   "file_extension": ".py",
   "mimetype": "text/x-python",
   "name": "python",
   "nbconvert_exporter": "python",
   "pygments_lexer": "ipython2",
   "version": "2.7.6"
  }
 },
 "nbformat": 4,
 "nbformat_minor": 5
}
