{
  "nbformat": 4,
  "nbformat_minor": 0,
  "metadata": {
    "colab": {
      "name": "4_3_corona_rnn_final.ipynb",
      "provenance": [],
      "collapsed_sections": []
    },
    "kernelspec": {
      "name": "python3",
      "display_name": "Python 3"
    }
  },
  "cells": [
    {
      "cell_type": "code",
      "metadata": {
        "id": "M9993fqTtAmA"
      },
      "source": [
        "from keras.models import Sequential\n",
        "from keras.layers import SimpleRNN, Dense\n",
        "from sklearn.preprocessing import MinMaxScaler\n",
        "from sklearn.metrics import mean_squared_error\n",
        "from sklearn.model_selection import train_test_split\n",
        "import math\n",
        "import numpy as np\n",
        "import matplotlib.pyplot as plt\n",
        "from pandas import read_csv"
      ],
      "execution_count": 46,
      "outputs": []
    },
    {
      "cell_type": "code",
      "metadata": {
        "id": "X6ZybiB0wun8",
        "colab": {
          "base_uri": "https://localhost:8080/"
        },
        "outputId": "163c01f5-dd60-48ca-d982-c05cd0715461"
      },
      "source": [
        "!git clone https://github.com/yhlee1627/deeplearning.git\n",
        "dataframe = read_csv('/content/deeplearning/corona_daily.csv', usecols=[3], engine='python', skipfooter=3)\n",
        "print(dataframe)\n",
        "dataset = dataframe.values\n",
        "dataset = dataset.astype('float32')"
      ],
      "execution_count": 47,
      "outputs": [
        {
          "output_type": "stream",
          "name": "stdout",
          "text": [
            "fatal: destination path 'deeplearning' already exists and is not an empty directory.\n",
            "     Confirmed\n",
            "0           24\n",
            "1           24\n",
            "2           27\n",
            "3           27\n",
            "4           28\n",
            "..         ...\n",
            "107      11190\n",
            "108      11206\n",
            "109      11225\n",
            "110      11265\n",
            "111      11344\n",
            "\n",
            "[112 rows x 1 columns]\n"
          ]
        }
      ]
    },
    {
      "cell_type": "code",
      "metadata": {
        "id": "O9zQ0KLdzN50",
        "colab": {
          "base_uri": "https://localhost:8080/"
        },
        "outputId": "121e3f13-ab13-4543-d146-fd3b7240caf1"
      },
      "source": [
        "scaler = MinMaxScaler(feature_range=(0, 1))\n",
        "Dataset = scaler.fit_transform(dataset)\n",
        "train_data, test_data = train_test_split(Dataset, test_size=0.2, shuffle=False)\n",
        "print(len(train_data), len(test_data))\n"
      ],
      "execution_count": 48,
      "outputs": [
        {
          "output_type": "stream",
          "name": "stdout",
          "text": [
            "89 23\n"
          ]
        }
      ]
    },
    {
      "cell_type": "code",
      "metadata": {
        "id": "f1-s_IIl0joY"
      },
      "source": [
        "def create_dataset(dataset, look_back):\n",
        "  x_data = []\n",
        "  y_data = []\n",
        "  for i in range(len(dataset)-look_back):\n",
        "    data = dataset[i:(i+look_back), 0]\n",
        "    x_data.append(data)\n",
        "    y_data.append(dataset[i + look_back, 0])\n",
        "  return np.array(x_data), np.array(y_data)"
      ],
      "execution_count": 49,
      "outputs": []
    },
    {
      "cell_type": "code",
      "metadata": {
        "id": "avRkJvj61CCY",
        "colab": {
          "base_uri": "https://localhost:8080/"
        },
        "outputId": "12e6b61b-5c0d-4210-a160-3e7f69465813"
      },
      "source": [
        "look_back = 3\n",
        "x_train, y_train = create_dataset(train_data, look_back)\n",
        "x_test, y_test = create_dataset(test_data, look_back)\n",
        "\n",
        "print(x_train.shape, y_train.shape)\n",
        "print(x_test.shape, y_test.shape)"
      ],
      "execution_count": 50,
      "outputs": [
        {
          "output_type": "stream",
          "name": "stdout",
          "text": [
            "(86, 3) (86,)\n",
            "(20, 3) (20,)\n"
          ]
        }
      ]
    },
    {
      "cell_type": "code",
      "metadata": {
        "id": "_C7ctt_j1TfE",
        "colab": {
          "base_uri": "https://localhost:8080/"
        },
        "outputId": "cbf64d61-cc13-40de-bce0-f180ea641538"
      },
      "source": [
        "X_train = np.reshape(x_train, (x_train.shape[0], 1, x_train.shape[1]))\n",
        "X_test = np.reshape(x_test, (x_test.shape[0], 1, x_test.shape[1]))\n",
        "\n",
        "print(X_train.shape)\n",
        "print(X_test.shape)"
      ],
      "execution_count": 51,
      "outputs": [
        {
          "output_type": "stream",
          "name": "stdout",
          "text": [
            "(86, 1, 3)\n",
            "(20, 1, 3)\n"
          ]
        }
      ]
    },
    {
      "cell_type": "code",
      "metadata": {
        "id": "g5VKAlNa1jW8",
        "colab": {
          "base_uri": "https://localhost:8080/"
        },
        "outputId": "fa834423-c556-4ad4-eea3-c208ab48212c"
      },
      "source": [
        "model = Sequential()\n",
        "model.add(SimpleRNN(3, input_shape=(1, look_back)))\n",
        "model.add(Dense(1, activation=\"linear\"))\n",
        "model.compile(loss='mse', optimizer='sgd')\n",
        "model.summary()"
      ],
      "execution_count": 52,
      "outputs": [
        {
          "output_type": "stream",
          "name": "stdout",
          "text": [
            "Model: \"sequential_4\"\n",
            "_________________________________________________________________\n",
            " Layer (type)                Output Shape              Param #   \n",
            "=================================================================\n",
            " simple_rnn_4 (SimpleRNN)    (None, 3)                 21        \n",
            "                                                                 \n",
            " dense_4 (Dense)             (None, 1)                 4         \n",
            "                                                                 \n",
            "=================================================================\n",
            "Total params: 25\n",
            "Trainable params: 25\n",
            "Non-trainable params: 0\n",
            "_________________________________________________________________\n"
          ]
        }
      ]
    },
    {
      "cell_type": "code",
      "metadata": {
        "id": "EzgYlrVQ2EiM",
        "colab": {
          "base_uri": "https://localhost:8080/"
        },
        "outputId": "3f17ec48-f25b-4d37-e9bc-39f2cd59ebea"
      },
      "source": [
        "model.fit(X_train, y_train, epochs=100, batch_size=1, verbose=1)"
      ],
      "execution_count": 53,
      "outputs": [
        {
          "output_type": "stream",
          "name": "stdout",
          "text": [
            "Epoch 1/100\n",
            "86/86 [==============================] - 1s 1ms/step - loss: 0.2284\n",
            "Epoch 2/100\n",
            "86/86 [==============================] - 0s 1ms/step - loss: 0.0462\n",
            "Epoch 3/100\n",
            "86/86 [==============================] - 0s 1ms/step - loss: 0.0241\n",
            "Epoch 4/100\n",
            "86/86 [==============================] - 0s 1ms/step - loss: 0.0120\n",
            "Epoch 5/100\n",
            "86/86 [==============================] - 0s 962us/step - loss: 0.0060\n",
            "Epoch 6/100\n",
            "86/86 [==============================] - 0s 1ms/step - loss: 0.0031\n",
            "Epoch 7/100\n",
            "86/86 [==============================] - 0s 988us/step - loss: 0.0018\n",
            "Epoch 8/100\n",
            "86/86 [==============================] - 0s 1ms/step - loss: 0.0012\n",
            "Epoch 9/100\n",
            "86/86 [==============================] - 0s 1ms/step - loss: 9.4407e-04\n",
            "Epoch 10/100\n",
            "86/86 [==============================] - 0s 1ms/step - loss: 8.3521e-04\n",
            "Epoch 11/100\n",
            "86/86 [==============================] - 0s 1ms/step - loss: 7.9714e-04\n",
            "Epoch 12/100\n",
            "86/86 [==============================] - 0s 1ms/step - loss: 7.7769e-04\n",
            "Epoch 13/100\n",
            "86/86 [==============================] - 0s 1ms/step - loss: 7.7063e-04\n",
            "Epoch 14/100\n",
            "86/86 [==============================] - 0s 1ms/step - loss: 7.6627e-04\n",
            "Epoch 15/100\n",
            "86/86 [==============================] - 0s 1ms/step - loss: 7.5962e-04\n",
            "Epoch 16/100\n",
            "86/86 [==============================] - 0s 1ms/step - loss: 7.5588e-04\n",
            "Epoch 17/100\n",
            "86/86 [==============================] - 0s 1ms/step - loss: 7.6101e-04\n",
            "Epoch 18/100\n",
            "86/86 [==============================] - 0s 1ms/step - loss: 7.4578e-04\n",
            "Epoch 19/100\n",
            "86/86 [==============================] - 0s 1ms/step - loss: 7.5010e-04\n",
            "Epoch 20/100\n",
            "86/86 [==============================] - 0s 969us/step - loss: 7.4640e-04\n",
            "Epoch 21/100\n",
            "86/86 [==============================] - 0s 1ms/step - loss: 7.4845e-04\n",
            "Epoch 22/100\n",
            "86/86 [==============================] - 0s 1ms/step - loss: 7.4401e-04\n",
            "Epoch 23/100\n",
            "86/86 [==============================] - 0s 1ms/step - loss: 7.2721e-04\n",
            "Epoch 24/100\n",
            "86/86 [==============================] - 0s 1ms/step - loss: 7.3518e-04\n",
            "Epoch 25/100\n",
            "86/86 [==============================] - 0s 1ms/step - loss: 7.2714e-04\n",
            "Epoch 26/100\n",
            "86/86 [==============================] - 0s 1ms/step - loss: 7.3475e-04\n",
            "Epoch 27/100\n",
            "86/86 [==============================] - 0s 1ms/step - loss: 7.2270e-04\n",
            "Epoch 28/100\n",
            "86/86 [==============================] - 0s 1ms/step - loss: 7.2526e-04\n",
            "Epoch 29/100\n",
            "86/86 [==============================] - 0s 993us/step - loss: 7.3687e-04\n",
            "Epoch 30/100\n",
            "86/86 [==============================] - 0s 1ms/step - loss: 7.2980e-04\n",
            "Epoch 31/100\n",
            "86/86 [==============================] - 0s 1ms/step - loss: 7.3261e-04\n",
            "Epoch 32/100\n",
            "86/86 [==============================] - 0s 1ms/step - loss: 7.1565e-04\n",
            "Epoch 33/100\n",
            "86/86 [==============================] - 0s 1ms/step - loss: 7.2681e-04\n",
            "Epoch 34/100\n",
            "86/86 [==============================] - 0s 979us/step - loss: 7.2011e-04\n",
            "Epoch 35/100\n",
            "86/86 [==============================] - 0s 1ms/step - loss: 7.1740e-04\n",
            "Epoch 36/100\n",
            "86/86 [==============================] - 0s 1ms/step - loss: 7.2276e-04\n",
            "Epoch 37/100\n",
            "86/86 [==============================] - 0s 1ms/step - loss: 7.2350e-04\n",
            "Epoch 38/100\n",
            "86/86 [==============================] - 0s 1ms/step - loss: 7.1447e-04\n",
            "Epoch 39/100\n",
            "86/86 [==============================] - 0s 1ms/step - loss: 7.1504e-04\n",
            "Epoch 40/100\n",
            "86/86 [==============================] - 0s 1ms/step - loss: 7.1739e-04\n",
            "Epoch 41/100\n",
            "86/86 [==============================] - 0s 1ms/step - loss: 6.9835e-04\n",
            "Epoch 42/100\n",
            "86/86 [==============================] - 0s 1ms/step - loss: 7.1852e-04\n",
            "Epoch 43/100\n",
            "86/86 [==============================] - 0s 1ms/step - loss: 7.1101e-04\n",
            "Epoch 44/100\n",
            "86/86 [==============================] - 0s 1ms/step - loss: 7.1172e-04\n",
            "Epoch 45/100\n",
            "86/86 [==============================] - 0s 1ms/step - loss: 7.1142e-04\n",
            "Epoch 46/100\n",
            "86/86 [==============================] - 0s 1ms/step - loss: 7.0296e-04\n",
            "Epoch 47/100\n",
            "86/86 [==============================] - 0s 1ms/step - loss: 7.0041e-04\n",
            "Epoch 48/100\n",
            "86/86 [==============================] - 0s 1ms/step - loss: 7.0010e-04\n",
            "Epoch 49/100\n",
            "86/86 [==============================] - 0s 1ms/step - loss: 7.0890e-04\n",
            "Epoch 50/100\n",
            "86/86 [==============================] - 0s 1ms/step - loss: 7.0142e-04\n",
            "Epoch 51/100\n",
            "86/86 [==============================] - 0s 1ms/step - loss: 7.0314e-04\n",
            "Epoch 52/100\n",
            "86/86 [==============================] - 0s 1ms/step - loss: 6.9978e-04\n",
            "Epoch 53/100\n",
            "86/86 [==============================] - 0s 1ms/step - loss: 6.9762e-04\n",
            "Epoch 54/100\n",
            "86/86 [==============================] - 0s 1ms/step - loss: 6.9385e-04\n",
            "Epoch 55/100\n",
            "86/86 [==============================] - 0s 1ms/step - loss: 6.9227e-04\n",
            "Epoch 56/100\n",
            "86/86 [==============================] - 0s 1ms/step - loss: 6.9008e-04\n",
            "Epoch 57/100\n",
            "86/86 [==============================] - 0s 1ms/step - loss: 6.9429e-04\n",
            "Epoch 58/100\n",
            "86/86 [==============================] - 0s 1ms/step - loss: 6.9226e-04\n",
            "Epoch 59/100\n",
            "86/86 [==============================] - 0s 1ms/step - loss: 6.9516e-04\n",
            "Epoch 60/100\n",
            "86/86 [==============================] - 0s 1ms/step - loss: 6.8881e-04\n",
            "Epoch 61/100\n",
            "86/86 [==============================] - 0s 1ms/step - loss: 6.8961e-04\n",
            "Epoch 62/100\n",
            "86/86 [==============================] - 0s 1ms/step - loss: 6.7127e-04\n",
            "Epoch 63/100\n",
            "86/86 [==============================] - 0s 1ms/step - loss: 6.8693e-04\n",
            "Epoch 64/100\n",
            "86/86 [==============================] - 0s 1ms/step - loss: 6.8684e-04\n",
            "Epoch 65/100\n",
            "86/86 [==============================] - 0s 1ms/step - loss: 6.8585e-04\n",
            "Epoch 66/100\n",
            "86/86 [==============================] - 0s 1ms/step - loss: 6.8300e-04\n",
            "Epoch 67/100\n",
            "86/86 [==============================] - 0s 1ms/step - loss: 6.7727e-04\n",
            "Epoch 68/100\n",
            "86/86 [==============================] - 0s 999us/step - loss: 6.8326e-04\n",
            "Epoch 69/100\n",
            "86/86 [==============================] - 0s 990us/step - loss: 6.7672e-04\n",
            "Epoch 70/100\n",
            "86/86 [==============================] - 0s 1ms/step - loss: 6.6879e-04\n",
            "Epoch 71/100\n",
            "86/86 [==============================] - 0s 1ms/step - loss: 6.8002e-04\n",
            "Epoch 72/100\n",
            "86/86 [==============================] - 0s 1ms/step - loss: 6.6865e-04\n",
            "Epoch 73/100\n",
            "86/86 [==============================] - 0s 995us/step - loss: 6.8017e-04\n",
            "Epoch 74/100\n",
            "86/86 [==============================] - 0s 1ms/step - loss: 6.7109e-04\n",
            "Epoch 75/100\n",
            "86/86 [==============================] - 0s 1ms/step - loss: 6.7368e-04\n",
            "Epoch 76/100\n",
            "86/86 [==============================] - 0s 1ms/step - loss: 6.7397e-04\n",
            "Epoch 77/100\n",
            "86/86 [==============================] - 0s 1ms/step - loss: 6.6049e-04\n",
            "Epoch 78/100\n",
            "86/86 [==============================] - 0s 1ms/step - loss: 6.7527e-04\n",
            "Epoch 79/100\n",
            "86/86 [==============================] - 0s 1ms/step - loss: 6.6057e-04\n",
            "Epoch 80/100\n",
            "86/86 [==============================] - 0s 1ms/step - loss: 6.6831e-04\n",
            "Epoch 81/100\n",
            "86/86 [==============================] - 0s 1000us/step - loss: 6.6523e-04\n",
            "Epoch 82/100\n",
            "86/86 [==============================] - 0s 1ms/step - loss: 6.6143e-04\n",
            "Epoch 83/100\n",
            "86/86 [==============================] - 0s 1ms/step - loss: 6.6673e-04\n",
            "Epoch 84/100\n",
            "86/86 [==============================] - 0s 1ms/step - loss: 6.5878e-04\n",
            "Epoch 85/100\n",
            "86/86 [==============================] - 0s 1ms/step - loss: 6.6598e-04\n",
            "Epoch 86/100\n",
            "86/86 [==============================] - 0s 1ms/step - loss: 6.6366e-04\n",
            "Epoch 87/100\n",
            "86/86 [==============================] - 0s 995us/step - loss: 6.5378e-04\n",
            "Epoch 88/100\n",
            "86/86 [==============================] - 0s 1ms/step - loss: 6.5616e-04\n",
            "Epoch 89/100\n",
            "86/86 [==============================] - 0s 1ms/step - loss: 6.6533e-04\n",
            "Epoch 90/100\n",
            "86/86 [==============================] - 0s 980us/step - loss: 6.5998e-04\n",
            "Epoch 91/100\n",
            "86/86 [==============================] - 0s 1ms/step - loss: 6.4912e-04\n",
            "Epoch 92/100\n",
            "86/86 [==============================] - 0s 1ms/step - loss: 6.5087e-04\n",
            "Epoch 93/100\n",
            "86/86 [==============================] - 0s 1ms/step - loss: 6.5814e-04\n",
            "Epoch 94/100\n",
            "86/86 [==============================] - 0s 958us/step - loss: 6.4992e-04\n",
            "Epoch 95/100\n",
            "86/86 [==============================] - 0s 989us/step - loss: 6.6087e-04\n",
            "Epoch 96/100\n",
            "86/86 [==============================] - 0s 1ms/step - loss: 6.4830e-04\n",
            "Epoch 97/100\n",
            "86/86 [==============================] - 0s 1ms/step - loss: 6.5556e-04\n",
            "Epoch 98/100\n",
            "86/86 [==============================] - 0s 1ms/step - loss: 6.5455e-04\n",
            "Epoch 99/100\n",
            "86/86 [==============================] - 0s 1ms/step - loss: 6.5527e-04\n",
            "Epoch 100/100\n",
            "86/86 [==============================] - 0s 1ms/step - loss: 6.5255e-04\n"
          ]
        },
        {
          "output_type": "execute_result",
          "data": {
            "text/plain": [
              "<keras.callbacks.History at 0x7f9665d64e90>"
            ]
          },
          "metadata": {},
          "execution_count": 53
        }
      ]
    },
    {
      "cell_type": "code",
      "metadata": {
        "id": "dP-k19T-2a06",
        "colab": {
          "base_uri": "https://localhost:8080/"
        },
        "outputId": "8cb27a4f-c054-4fef-edef-348091e01dfb"
      },
      "source": [
        "trainPredict = model.predict(X_train)\n",
        "testPredict = model.predict(X_test)\n",
        "TrainPredict = scaler.inverse_transform(trainPredict)\n",
        "Y_train = scaler.inverse_transform([y_train])\n",
        "TestPredict = scaler.inverse_transform(testPredict)\n",
        "Y_test = scaler.inverse_transform([y_test])\n",
        "print(len(testPredict))"
      ],
      "execution_count": 54,
      "outputs": [
        {
          "output_type": "stream",
          "name": "stdout",
          "text": [
            "20\n"
          ]
        }
      ]
    },
    {
      "cell_type": "code",
      "metadata": {
        "id": "YGmwOeY22w8y",
        "colab": {
          "base_uri": "https://localhost:8080/"
        },
        "outputId": "340f58ce-6d21-48c0-f96b-f1d2291b5539"
      },
      "source": [
        "trainScore = math.sqrt(mean_squared_error(Y_train[0], TrainPredict[:,0]))\n",
        "print('Train Score: %.2f RMSE' % (trainScore))\n",
        "testScore = math.sqrt(mean_squared_error(Y_test[0], TestPredict[:,0]))\n",
        "print('Test Score: %.2f RMSE' % (testScore))"
      ],
      "execution_count": 55,
      "outputs": [
        {
          "output_type": "stream",
          "name": "stdout",
          "text": [
            "Train Score: 284.01 RMSE\n",
            "Test Score: 325.02 RMSE\n"
          ]
        }
      ]
    },
    {
      "cell_type": "code",
      "metadata": {
        "id": "7u1LcOnq3B6-",
        "colab": {
          "base_uri": "https://localhost:8080/",
          "height": 265
        },
        "outputId": "baa72afd-c20c-407e-8131-870456f7e6ff"
      },
      "source": [
        "trainPredictPlot = np.empty_like(dataset)\n",
        "trainPredictPlot[:, :] = np.nan\n",
        "trainPredictPlot[look_back:len(TrainPredict)+look_back, :] = TrainPredict\n",
        "testPredictPlot = np.empty_like(dataset)\n",
        "testPredictPlot[:, :] = np.nan\n",
        "testPredictPlot[len(TrainPredict)+(look_back)*2:len(dataset), :] = TestPredict\n",
        "plt.plot(dataset)\n",
        "plt.plot(trainPredictPlot)\n",
        "plt.plot(testPredictPlot)\n",
        "plt.show()"
      ],
      "execution_count": 56,
      "outputs": [
        {
          "output_type": "display_data",
          "data": {
            "image/png": "[encoded data removed]",
            "text/plain": [
              "<Figure size 432x288 with 1 Axes>"
            ]
          },
          "metadata": {
            "needs_background": "light"
          }
        }
      ]
    },
    {
      "cell_type": "markdown",
      "metadata": {
        "id": "33kHB2EyTxVr"
      },
      "source": [
        "# 새 섹션"
      ]
    }
  ]
}